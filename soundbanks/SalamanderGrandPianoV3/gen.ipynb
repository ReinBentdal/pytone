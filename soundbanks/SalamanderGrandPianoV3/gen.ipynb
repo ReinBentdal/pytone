{
 "cells": [
  {
   "cell_type": "code",
   "execution_count": null,
   "metadata": {},
   "outputs": [],
   "source": [
    "%pip install librosa"
   ]
  },
  {
   "cell_type": "code",
   "execution_count": null,
   "metadata": {},
   "outputs": [],
   "source": [
    "from os import listdir\n",
    "from os.path import isfile, join\n",
    "\n",
    "def get_directory_files(dir, with_extenton=False):\n",
    "\n",
    "  directoy_files = [f for f in listdir(dir) if isfile(join(dir, f))]\n",
    "\n",
    "  # remove extension\n",
    "  if not with_extenton:\n",
    "    directoy_files = [f.split(\".\")[0] for f in directoy_files]\n",
    "\n",
    "  return directoy_files"
   ]
  },
  {
   "cell_type": "code",
   "execution_count": null,
   "metadata": {},
   "outputs": [],
   "source": [
    "import re\n",
    "\n",
    "def note_to_midi(note):\n",
    "    note_map = {'C': 0, 'C#': 1, 'D': 2, 'D#': 3, 'E': 4, 'F': 5, 'F#': 6, 'G': 7, 'G#': 8, 'A': 9, 'A#': 10, 'B': 11}\n",
    "    match = re.match(r'([A-G]#?)(\\d)v(\\d+)', note)\n",
    "    if match:\n",
    "        note_name, octave, version = match.groups()\n",
    "        if version == '1':  # only consider version 1\n",
    "            midi_number = note_map[note_name] + int(octave) * 12\n",
    "            return midi_number\n",
    "    return None  # return None if the note doesn't match the pattern or is not version 1"
   ]
  },
  {
   "cell_type": "code",
   "execution_count": null,
   "metadata": {},
   "outputs": [],
   "source": [
    "import librosa\n",
    "import soundfile as sf\n",
    "\n",
    "def transpose_audio_file(filepath, semitones):\n",
    "    # Load the audio file\n",
    "    y, sr = librosa.load(filepath, sr=None)\n",
    "    \n",
    "    # Transpose it by the desired number of semitones\n",
    "    y_transposed = librosa.effects.pitch_shift(y=y, sr=sr, n_steps=semitones)\n",
    "    \n",
    "    # Save the transposed file\n",
    "    new_filepath = filepath.replace('.wav', f'_transposed{semitones}.wav')\n",
    "    sf.write(new_filepath, y_transposed, sr)\n",
    "\n",
    "    return new_filepath\n",
    "\n"
   ]
  },
  {
   "cell_type": "code",
   "execution_count": null,
   "metadata": {},
   "outputs": [],
   "source": [
    "import shutil\n",
    "import os\n",
    "\n",
    "def create_lib(original_files):\n",
    "  new_dir = 'samples'\n",
    "  os.makedirs(new_dir, exist_ok=True)\n",
    "  \n",
    "  # Save existing files in new directory with MIDI number as filename\n",
    "  for file, midi_num in original_files:\n",
    "      new_filename = os.path.join(new_dir, f'key-{midi_num:03d}.wav')\n",
    "      shutil.copyfile(file, new_filename)\n",
    "\n",
    "  # Fill in missing MIDI numbers by transposing previous .wav file\n",
    "  for midi_num in range(9, 97):  # MIDI numbers from 9 to 96\n",
    "      filepath = os.path.join(new_dir, f'key-{midi_num:03d}.wav')\n",
    "      \n",
    "      # If the .wav file doesn't exist, transpose the previous .wav file\n",
    "      if not os.path.exists(filepath):\n",
    "          previous_filepath = os.path.join(new_dir, f'key-{(midi_num-1):03d}.wav')\n",
    "          new_filepath = transpose_audio_file(previous_filepath, 1)  # Transpose up by 1 semitone\n",
    "          os.rename(new_filepath, filepath)  # Rename the new file to have the correct MIDI number"
   ]
  },
  {
   "cell_type": "code",
   "execution_count": null,
   "metadata": {},
   "outputs": [],
   "source": [
    "raw_dir = '44.1khz16bit/'\n",
    "files = get_directory_files(raw_dir, with_extenton=True)\n",
    "files = [(raw_dir+f, note_to_midi(f)) for f in files]\n",
    "files = [f for f in files if f[1] is not None]\n",
    "files = sorted(files, key=lambda x: x[1])\n",
    "create_lib(files)"
   ]
  }
 ],
 "metadata": {
  "kernelspec": {
   "display_name": "Python 3",
   "language": "python",
   "name": "python3"
  },
  "language_info": {
   "codemirror_mode": {
    "name": "ipython",
    "version": 3
   },
   "file_extension": ".py",
   "mimetype": "text/x-python",
   "name": "python",
   "nbconvert_exporter": "python",
   "pygments_lexer": "ipython3",
   "version": "3.7.8"
  },
  "orig_nbformat": 4
 },
 "nbformat": 4,
 "nbformat_minor": 2
}
