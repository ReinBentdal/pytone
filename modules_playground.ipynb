{
 "cells": [
  {
   "attachments": {},
   "cell_type": "markdown",
   "metadata": {},
   "source": [
    "## Setup"
   ]
  },
  {
   "cell_type": "code",
   "execution_count": null,
   "metadata": {},
   "outputs": [],
   "source": [
    "# packages which are needed, install in current environment\n",
    "# python >= 3.8\n",
    "%pip install colorama\n",
    "%pip install simpleaudio\n",
    "%pip install python-rtmidi\n",
    "%pip install mido\n",
    "%pip install pynput"
   ]
  },
  {
   "cell_type": "code",
   "execution_count": 1,
   "metadata": {},
   "outputs": [],
   "source": [
    "%load_ext autoreload\n",
    "%autoreload 2"
   ]
  },
  {
   "cell_type": "code",
   "execution_count": 5,
   "metadata": {},
   "outputs": [],
   "source": [
    "from utils.log import Log\n",
    "log = Log(Log.LEVEL_INF, name='notebook')"
   ]
  },
  {
   "attachments": {},
   "cell_type": "markdown",
   "metadata": {},
   "source": [
    "## Hello World"
   ]
  },
  {
   "cell_type": "code",
   "execution_count": 6,
   "metadata": {},
   "outputs": [],
   "source": [
    "import midi\n",
    "import canvas\n",
    "\n",
    "class Hello(midi.Module):\n",
    "  def note(self, event: midi.Note):\n",
    "    self.send(event) # just pass event further\n",
    "    \n",
    "    self.redraw(note=event.note)\n",
    "    \n",
    "  def redraw(self, note=None):\n",
    "    # write 'Hello' to the display\n",
    "    canvas.write(f'Hello {note if note != None else \"\"}')"
   ]
  },
  {
   "cell_type": "code",
   "execution_count": 7,
   "metadata": {},
   "outputs": [
    {
     "name": "stderr",
     "output_type": "stream",
     "text": [
      "This process is not trusted! Input event monitoring will not be possible until it is added to accessibility clients.\n"
     ]
    },
    {
     "name": "stdout",
     "output_type": "stream",
     "text": [
      "\n",
      "\u001b[36m[IMP] canvas: Hello \u001b[0m\n",
      "\n",
      "\u001b[32m[INF] midi_tester: Starting keyboard listener, stop by pressing ESC or ENTER\u001b[0m\n",
      "\u001b[32m[INF] midi_tester: Use LEFT and RIGHT to control the encoder\u001b[0m\n",
      "\n",
      "\u001b[36m[IMP] canvas: Hello 60\u001b[0m\n",
      "\u001b[36m[IMP] canvas: Hello 60\u001b[0m\n",
      "\u001b[36m[IMP] canvas: Hello 60\u001b[0m\n",
      "\u001b[36m[IMP] canvas: Hello 60\u001b[0m\n",
      "\u001b[36m[IMP] canvas: Hello 60\u001b[0m\n",
      "\u001b[36m[IMP] canvas: Hello 60\u001b[0m\n",
      "\n",
      "\u001b[32m[INF] midi_tester: \u001b[0m\n",
      "\u001b[32m[INF] midi_tester: Keyboard listener stopped\u001b[0m\n",
      "\u001b[32m[INF] midi_tester: Audio stopped\u001b[0m\n",
      "Unexpected exception formatting exception. Falling back to standard exception\n"
     ]
    },
    {
     "name": "stderr",
     "output_type": "stream",
     "text": [
      "Traceback (most recent call last):\n",
      "  File \"/Users/rein/Library/miniconda3/envs/midisim/lib/python3.11/site-packages/IPython/core/interactiveshell.py\", line 3505, in run_code\n",
      "    exec(code_obj, self.user_global_ns, self.user_ns)\n",
      "  File \"/var/folders/y7/str5z30s4lq1hd9vvv9c0sk40000gn/T/ipykernel_31418/576364577.py\", line 4, in <module>\n",
      "    t.start()\n",
      "  File \"/Users/rein/Documents/Prosjekter/midi_keyboard/scipt_simulator/midi_tester.py\", line 197, in start\n",
      "    listener.join()\n",
      "  File \"/Users/rein/Library/miniconda3/envs/midisim/lib/python3.11/site-packages/pynput/_util/__init__.py\", line 269, in join\n",
      "    super(AbstractListener, self).join(*args)\n",
      "  File \"/Users/rein/Library/miniconda3/envs/midisim/lib/python3.11/threading.py\", line 1112, in join\n",
      "    self._wait_for_tstate_lock()\n",
      "  File \"/Users/rein/Library/miniconda3/envs/midisim/lib/python3.11/threading.py\", line 1132, in _wait_for_tstate_lock\n",
      "    if lock.acquire(block, timeout):\n",
      "       ^^^^^^^^^^^^^^^^^^^^^^^^^^^^\n",
      "KeyboardInterrupt\n",
      "\n",
      "During handling of the above exception, another exception occurred:\n",
      "\n",
      "Traceback (most recent call last):\n",
      "  File \"/Users/rein/Library/miniconda3/envs/midisim/lib/python3.11/site-packages/IPython/core/interactiveshell.py\", line 2102, in showtraceback\n",
      "    stb = self.InteractiveTB.structured_traceback(\n",
      "          ^^^^^^^^^^^^^^^^^^^^^^^^^^^^^^^^^^^^^^^^\n",
      "  File \"/Users/rein/Library/miniconda3/envs/midisim/lib/python3.11/site-packages/IPython/core/ultratb.py\", line 1310, in structured_traceback\n",
      "    return FormattedTB.structured_traceback(\n",
      "           ^^^^^^^^^^^^^^^^^^^^^^^^^^^^^^^^^\n",
      "  File \"/Users/rein/Library/miniconda3/envs/midisim/lib/python3.11/site-packages/IPython/core/ultratb.py\", line 1199, in structured_traceback\n",
      "    return VerboseTB.structured_traceback(\n",
      "           ^^^^^^^^^^^^^^^^^^^^^^^^^^^^^^^\n",
      "  File \"/Users/rein/Library/miniconda3/envs/midisim/lib/python3.11/site-packages/IPython/core/ultratb.py\", line 1052, in structured_traceback\n",
      "    formatted_exception = self.format_exception_as_a_whole(etype, evalue, etb, number_of_lines_of_context,\n",
      "                          ^^^^^^^^^^^^^^^^^^^^^^^^^^^^^^^^^^^^^^^^^^^^^^^^^^^^^^^^^^^^^^^^^^^^^^^^^^^^^^^^\n",
      "  File \"/Users/rein/Library/miniconda3/envs/midisim/lib/python3.11/site-packages/IPython/core/ultratb.py\", line 978, in format_exception_as_a_whole\n",
      "    frames.append(self.format_record(record))\n",
      "                  ^^^^^^^^^^^^^^^^^^^^^^^^^^\n",
      "  File \"/Users/rein/Library/miniconda3/envs/midisim/lib/python3.11/site-packages/IPython/core/ultratb.py\", line 878, in format_record\n",
      "    frame_info.lines, Colors, self.has_colors, lvals\n",
      "    ^^^^^^^^^^^^^^^^\n",
      "  File \"/Users/rein/Library/miniconda3/envs/midisim/lib/python3.11/site-packages/IPython/core/ultratb.py\", line 712, in lines\n",
      "    return self._sd.lines\n",
      "           ^^^^^^^^^^^^^^\n",
      "  File \"/Users/rein/Library/miniconda3/envs/midisim/lib/python3.11/site-packages/stack_data/utils.py\", line 145, in cached_property_wrapper\n",
      "    value = obj.__dict__[self.func.__name__] = self.func(obj)\n",
      "                                               ^^^^^^^^^^^^^^\n",
      "  File \"/Users/rein/Library/miniconda3/envs/midisim/lib/python3.11/site-packages/stack_data/core.py\", line 698, in lines\n",
      "    pieces = self.included_pieces\n",
      "             ^^^^^^^^^^^^^^^^^^^^\n",
      "  File \"/Users/rein/Library/miniconda3/envs/midisim/lib/python3.11/site-packages/stack_data/utils.py\", line 145, in cached_property_wrapper\n",
      "    value = obj.__dict__[self.func.__name__] = self.func(obj)\n",
      "                                               ^^^^^^^^^^^^^^\n",
      "  File \"/Users/rein/Library/miniconda3/envs/midisim/lib/python3.11/site-packages/stack_data/core.py\", line 649, in included_pieces\n",
      "    pos = scope_pieces.index(self.executing_piece)\n",
      "                             ^^^^^^^^^^^^^^^^^^^^\n",
      "  File \"/Users/rein/Library/miniconda3/envs/midisim/lib/python3.11/site-packages/stack_data/utils.py\", line 145, in cached_property_wrapper\n",
      "    value = obj.__dict__[self.func.__name__] = self.func(obj)\n",
      "                                               ^^^^^^^^^^^^^^\n",
      "  File \"/Users/rein/Library/miniconda3/envs/midisim/lib/python3.11/site-packages/stack_data/core.py\", line 628, in executing_piece\n",
      "    return only(\n",
      "           ^^^^^\n",
      "  File \"/Users/rein/Library/miniconda3/envs/midisim/lib/python3.11/site-packages/executing/executing.py\", line 164, in only\n",
      "    raise NotOneValueFound('Expected one value, found 0')\n",
      "executing.executing.NotOneValueFound: Expected one value, found 0\n"
     ]
    }
   ],
   "source": [
    "from utils.midi_tester import Tester, TesterOutput\n",
    "\n",
    "t = Tester(Hello(), out=TesterOutput.AUDIO)\n",
    "t.start()"
   ]
  },
  {
   "attachments": {},
   "cell_type": "markdown",
   "metadata": {},
   "source": [
    "## Pulse"
   ]
  },
  {
   "cell_type": "code",
   "execution_count": null,
   "metadata": {},
   "outputs": [],
   "source": []
  },
  {
   "cell_type": "code",
   "execution_count": 4,
   "metadata": {},
   "outputs": [],
   "source": [
    "import midi\n",
    "import canvas\n",
    "\n",
    "class Pulse(midi.Module):\n",
    "  \n",
    "  TICKS_PER_NOTE_OPTIONS = [2, 4, 8, 12]\n",
    "  \n",
    "  def __init__(self):\n",
    "    self.reset()\n",
    "    \n",
    "  def reset(self):\n",
    "    self.playing = []\n",
    "    self.ticks = 0\n",
    "    self.next_press = True\n",
    "    self.ticks_per_note_select = 2\n",
    "  \n",
    "  def note(self, k):\n",
    "    if k.pressed:\n",
    "      self.playing.append(k)\n",
    "    else:\n",
    "      if k in self.playing:\n",
    "        if not self.next_press:\n",
    "          self.send(k)\n",
    "        self.playing.remove(k)\n",
    "    \n",
    "  def tick(self):    \n",
    "    self.ticks += 1\n",
    "    if self.ticks < self.TICKS_PER_NOTE_OPTIONS[self.ticks_per_note_select]:\n",
    "      return\n",
    "    \n",
    "    self.ticks = 0\n",
    "\n",
    "    if self.next_press:\n",
    "      for k in self.playing:\n",
    "        self.send(k)\n",
    "    else:\n",
    "      for k in self.playing:\n",
    "        self.send(k.copy_with(state=midi.State.NOTE_OFF))\n",
    "        \n",
    "    self.next_press = not self.next_press\n",
    "    \n",
    "  def enc(self, inc):\n",
    "    \"\"\"Physical rotary encoder events. Changes the arpeggio speed\"\"\"\n",
    "    \n",
    "    # selects the speed and bound checks\n",
    "    self.ticks_per_note_select = min(max(self.ticks_per_note_select + inc, 0), len(self.TICKS_PER_NOTE_OPTIONS) - 1)\n",
    "\n",
    "    # update screen graphics\n",
    "    self.redraw()\n",
    "        \n",
    "  def redraw(self):\n",
    "    ticks_per_note = self.TICKS_PER_NOTE_OPTIONS[self.ticks_per_note_select]\n",
    "    canvas.write(f'*PLS: 1/{ticks_per_note}')"
   ]
  },
  {
   "cell_type": "code",
   "execution_count": null,
   "metadata": {},
   "outputs": [],
   "source": [
    "from utils.midi_tester import Tester, TesterOutput\n",
    "\n",
    "log.set_level(log.LEVEL_INF)\n",
    "\n",
    "t = Tester(Pulse(), bpm=120, out=TesterOutput.MIDI)\n",
    "t.start()"
   ]
  },
  {
   "attachments": {},
   "cell_type": "markdown",
   "metadata": {},
   "source": [
    "## Arpeggio creation"
   ]
  },
  {
   "attachments": {},
   "cell_type": "markdown",
   "metadata": {},
   "source": [
    "Firsty, we will import the core libraries which is needed when creating a new midi scetch"
   ]
  },
  {
   "cell_type": "code",
   "execution_count": 12,
   "metadata": {},
   "outputs": [],
   "source": [
    "import midi\n",
    "import canvas\n",
    "\n",
    "class Arpeggio(midi.Module):\n",
    "  TICKS_PER_NOTE_OPTIONS = [1, 4, 8, 12]\n",
    "  \n",
    "  def __init__(self):\n",
    "    self.reset()\n",
    "\n",
    "  def reset(self):\n",
    "    \"\"\"Sets the scetch to its initial state\"\"\"\n",
    "    self.tick_count = 0\n",
    "    self.ticks_per_note_select = 2\n",
    "    self.last_played_note = None\n",
    "    self.current_note_idx = 0\n",
    "    self.notes_active = []\n",
    " \n",
    "  @property\n",
    "  def ticks_per_note(self):\n",
    "    return self.TICKS_PER_NOTE_OPTIONS[self.ticks_per_note_select]\n",
    " \n",
    "  def note(self, event: midi.Note):\n",
    "    \"\"\"Processes note events. Adds or removes from arpeggio\"\"\"\n",
    "    if event.pressed:\n",
    "      self.notes_active.append(event)\n",
    "    else:\n",
    "      self.notes_active.remove(event)\n",
    "\n",
    "  def enc(self, inc):\n",
    "    \"\"\"Physical rotary encoder events. Changes the arpeggio speed\"\"\"\n",
    "    # selects the arpeggio speed and bound checks\n",
    "    self.ticks_per_note_select = min(max(self.ticks_per_note_select + inc, 0), len(self.TICKS_PER_NOTE_OPTIONS) - 1)\n",
    "\n",
    "    # update display graphics\n",
    "    self.redraw()\n",
    "\n",
    "  def tick(self):    \n",
    "    self.tick_count += 1\n",
    "    if self.tick_count < self.ticks_per_note:\n",
    "      return\n",
    "    self.tick_count = 0\n",
    "                \n",
    "    # stop last played note\n",
    "    if self.last_played_note != None:\n",
    "      event = self.last_played_note.copy_with(state=midi.State.NOTE_OFF)\n",
    "      self.send(event)\n",
    "      self.last_played_note = None\n",
    "      \n",
    "    # play new note\n",
    "    if len(self.notes_active) > 0:\n",
    "      if self.current_note_idx >= len(self.notes_active):\n",
    "        self.current_note_idx = 0\n",
    "      event = self.notes_active[self.current_note_idx]\n",
    "      self.send(event)\n",
    "      self.last_played_note = event\n",
    "      self.current_note_idx += 1\n",
    "\n",
    "  def redraw(self):\n",
    "    canvas.write(f'*ARP:1/{self.ticks_per_note}')"
   ]
  },
  {
   "attachments": {},
   "cell_type": "markdown",
   "metadata": {},
   "source": [
    "## Test"
   ]
  },
  {
   "cell_type": "code",
   "execution_count": 13,
   "metadata": {},
   "outputs": [
    {
     "name": "stderr",
     "output_type": "stream",
     "text": [
      "This process is not trusted! Input event monitoring will not be possible until it is added to accessibility clients.\n"
     ]
    },
    {
     "name": "stdout",
     "output_type": "stream",
     "text": [
      "\n",
      "\u001b[36m[IMP] canvas: *ARP:1/8\u001b[0m\n",
      "\n",
      "\u001b[32m[INF] midi_tester: Starting keyboard listener, stop by pressing ESC or ENTER\u001b[0m\n",
      "\u001b[32m[INF] midi_tester: Use LEFT and RIGHT to control the encoder\u001b[0m\n",
      "\u001b[32m[INF] midi_tester: \u001b[0m\n",
      "\u001b[32m[INF] midi_tester: Keyboard listener stopped\u001b[0m\n",
      "\u001b[32m[INF] midi_tester: MIDI out closed\u001b[0m\n"
     ]
    }
   ],
   "source": [
    "import utils.midi_tester\n",
    "from utils.midi_tester import Tester, TesterOutput\n",
    "\n",
    "# midi_tester.log.set_level(midi_tester.log.LEVEL_DBG)\n",
    "\n",
    "t = Tester(Arpeggio(), bpm=120, out=TesterOutput.MIDI)\n",
    "t.start()"
   ]
  },
  {
   "cell_type": "code",
   "execution_count": null,
   "metadata": {},
   "outputs": [],
   "source": []
  }
 ],
 "metadata": {
  "kernelspec": {
   "display_name": "Python 3",
   "language": "python",
   "name": "python3"
  },
  "language_info": {
   "codemirror_mode": {
    "name": "ipython",
    "version": 3
   },
   "file_extension": ".py",
   "mimetype": "text/x-python",
   "name": "python",
   "nbconvert_exporter": "python",
   "pygments_lexer": "ipython3",
   "version": "3.11.3"
  },
  "orig_nbformat": 4
 },
 "nbformat": 4,
 "nbformat_minor": 2
}
