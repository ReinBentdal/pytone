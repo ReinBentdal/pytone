{
 "cells": [
  {
   "attachments": {},
   "cell_type": "markdown",
   "metadata": {},
   "source": [
    "## Setup"
   ]
  },
  {
   "cell_type": "code",
   "execution_count": null,
   "metadata": {},
   "outputs": [],
   "source": [
    "# packages which are needed, install in current environment\n",
    "# python >= 3.8\n",
    "%pip install colorama\n",
    "%pip install simpleaudio\n",
    "%pip install python-rtmidi\n",
    "%pip install mido\n",
    "%pip install pynput"
   ]
  },
  {
   "cell_type": "code",
   "execution_count": null,
   "metadata": {},
   "outputs": [],
   "source": [
    "%load_ext autoreload\n",
    "%autoreload 2"
   ]
  },
  {
   "cell_type": "code",
   "execution_count": null,
   "metadata": {},
   "outputs": [],
   "source": [
    "from utils.log import Log\n",
    "log = Log(Log.LEVEL_INF, name='notebook')"
   ]
  },
  {
   "attachments": {},
   "cell_type": "markdown",
   "metadata": {},
   "source": [
    "## Hello World"
   ]
  },
  {
   "cell_type": "code",
   "execution_count": null,
   "metadata": {},
   "outputs": [],
   "source": [
    "import midi\n",
    "import canvas\n",
    "\n",
    "class Hello(midi.Module):\n",
    "  def note(self, event: midi.Note):\n",
    "    self.send(event) # just pass event further\n",
    "    \n",
    "    self.redraw(note=event.note)\n",
    "    \n",
    "  def redraw(self, note=None):\n",
    "    # write 'Hello' to the display\n",
    "    canvas.write(f'Hello {note if note != None else \"\"}')"
   ]
  },
  {
   "cell_type": "code",
   "execution_count": null,
   "metadata": {},
   "outputs": [],
   "source": [
    "from utils.midi_tester import Tester, TesterOutput\n",
    "\n",
    "t = Tester(Hello(), out=TesterOutput.AUDIO)\n",
    "t.start()"
   ]
  },
  {
   "attachments": {},
   "cell_type": "markdown",
   "metadata": {},
   "source": [
    "## Pulse"
   ]
  },
  {
   "cell_type": "code",
   "execution_count": null,
   "metadata": {},
   "outputs": [],
   "source": []
  },
  {
   "cell_type": "code",
   "execution_count": null,
   "metadata": {},
   "outputs": [],
   "source": [
    "import midi\n",
    "import canvas\n",
    "\n",
    "class Pulse(midi.Module):\n",
    "  \n",
    "  TICKS_PER_NOTE_OPTIONS = [2, 4, 8, 12]\n",
    "  \n",
    "  def __init__(self):\n",
    "    self.reset()\n",
    "    \n",
    "  def reset(self):\n",
    "    self.playing = []\n",
    "    self.ticks = 0\n",
    "    self.next_press = True\n",
    "    self.ticks_per_note_select = 2\n",
    "  \n",
    "  def note(self, k):\n",
    "    if k.pressed:\n",
    "      self.playing.append(k)\n",
    "    else:\n",
    "      if k in self.playing:\n",
    "        if not self.next_press:\n",
    "          self.send(k)\n",
    "        self.playing.remove(k)\n",
    "    \n",
    "  def tick(self):    \n",
    "    self.ticks += 1\n",
    "    if self.ticks < self.TICKS_PER_NOTE_OPTIONS[self.ticks_per_note_select]:\n",
    "      return\n",
    "    \n",
    "    self.ticks = 0\n",
    "\n",
    "    if self.next_press:\n",
    "      for k in self.playing:\n",
    "        self.send(k)\n",
    "    else:\n",
    "      for k in self.playing:\n",
    "        self.send(k.copy_with(state=midi.State.NOTE_OFF))\n",
    "        \n",
    "    self.next_press = not self.next_press\n",
    "    \n",
    "  def enc(self, inc):\n",
    "    \"\"\"Physical rotary encoder events. Changes the arpeggio speed\"\"\"\n",
    "    \n",
    "    # selects the speed and bound checks\n",
    "    self.ticks_per_note_select = min(max(self.ticks_per_note_select + inc, 0), len(self.TICKS_PER_NOTE_OPTIONS) - 1)\n",
    "\n",
    "    # update screen graphics\n",
    "    self.redraw()\n",
    "        \n",
    "  def redraw(self):\n",
    "    ticks_per_note = self.TICKS_PER_NOTE_OPTIONS[self.ticks_per_note_select]\n",
    "    canvas.write(f'*PLS: 1/{ticks_per_note}')"
   ]
  },
  {
   "cell_type": "code",
   "execution_count": null,
   "metadata": {},
   "outputs": [],
   "source": [
    "from utils.midi_tester import Tester, TesterOutput\n",
    "\n",
    "log.set_level(log.LEVEL_INF)\n",
    "\n",
    "t = Tester(Pulse(), bpm=120, out=TesterOutput.MIDI)\n",
    "t.start()"
   ]
  },
  {
   "attachments": {},
   "cell_type": "markdown",
   "metadata": {},
   "source": [
    "## Arpeggio creation"
   ]
  },
  {
   "attachments": {},
   "cell_type": "markdown",
   "metadata": {},
   "source": [
    "Firsty, we will import the core libraries which is needed when creating a new midi scetch"
   ]
  },
  {
   "cell_type": "code",
   "execution_count": null,
   "metadata": {},
   "outputs": [],
   "source": [
    "import midi\n",
    "import canvas\n",
    "\n",
    "class Arpeggio(midi.Module):\n",
    "  TICKS_PER_NOTE_OPTIONS = [1, 4, 8, 12]\n",
    "  \n",
    "  def __init__(self):\n",
    "    self.reset()\n",
    "\n",
    "  def reset(self):\n",
    "    \"\"\"Sets the scetch to its initial state\"\"\"\n",
    "    self.tick_count = 0\n",
    "    self.ticks_per_note_select = 2\n",
    "    self.last_played_note = None\n",
    "    self.current_note_idx = 0\n",
    "    self.notes_active = []\n",
    " \n",
    "  @property\n",
    "  def ticks_per_note(self):\n",
    "    return self.TICKS_PER_NOTE_OPTIONS[self.ticks_per_note_select]\n",
    " \n",
    "  def note(self, event: midi.Note):\n",
    "    \"\"\"Processes note events. Adds or removes from arpeggio\"\"\"\n",
    "    if event.pressed:\n",
    "      self.notes_active.append(event)\n",
    "    else:\n",
    "      self.notes_active.remove(event)\n",
    "\n",
    "  def enc(self, inc):\n",
    "    \"\"\"Physical rotary encoder events. Changes the arpeggio speed\"\"\"\n",
    "    # selects the arpeggio speed and bound checks\n",
    "    self.ticks_per_note_select = min(max(self.ticks_per_note_select + inc, 0), len(self.TICKS_PER_NOTE_OPTIONS) - 1)\n",
    "\n",
    "    # update display graphics\n",
    "    self.redraw()\n",
    "\n",
    "  def tick(self):    \n",
    "    self.tick_count += 1\n",
    "    if self.tick_count < self.ticks_per_note:\n",
    "      return\n",
    "    self.tick_count = 0\n",
    "                \n",
    "    # stop last played note\n",
    "    if self.last_played_note != None:\n",
    "      event = self.last_played_note.copy_with(state=midi.State.NOTE_OFF)\n",
    "      self.send(event)\n",
    "      self.last_played_note = None\n",
    "      \n",
    "    # play new note\n",
    "    if len(self.notes_active) > 0:\n",
    "      if self.current_note_idx >= len(self.notes_active):\n",
    "        self.current_note_idx = 0\n",
    "      event = self.notes_active[self.current_note_idx]\n",
    "      self.send(event)\n",
    "      self.last_played_note = event\n",
    "      self.current_note_idx += 1\n",
    "\n",
    "  def redraw(self):\n",
    "    canvas.write(f'*ARP:1/{self.ticks_per_note}')"
   ]
  },
  {
   "attachments": {},
   "cell_type": "markdown",
   "metadata": {},
   "source": [
    "## Test"
   ]
  },
  {
   "cell_type": "code",
   "execution_count": null,
   "metadata": {},
   "outputs": [],
   "source": [
    "import utils.midi_tester\n",
    "from utils.midi_tester import Tester, TesterOutput\n",
    "\n",
    "# midi_tester.log.set_level(midi_tester.log.LEVEL_DBG)\n",
    "\n",
    "t = Tester(Arpeggio(), bpm=120, out=TesterOutput.MIDI)\n",
    "t.start()"
   ]
  },
  {
   "cell_type": "code",
   "execution_count": null,
   "metadata": {},
   "outputs": [],
   "source": []
  }
 ],
 "metadata": {
  "kernelspec": {
   "display_name": "Python 3",
   "language": "python",
   "name": "python3"
  },
  "language_info": {
   "codemirror_mode": {
    "name": "ipython",
    "version": 3
   },
   "file_extension": ".py",
   "mimetype": "text/x-python",
   "name": "python",
   "nbconvert_exporter": "python",
   "pygments_lexer": "ipython3",
   "version": "3.11.3"
  },
  "orig_nbformat": 4
 },
 "nbformat": 4,
 "nbformat_minor": 2
}
